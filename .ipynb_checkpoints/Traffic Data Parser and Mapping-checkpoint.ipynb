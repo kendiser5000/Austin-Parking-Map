{
 "cells": [
  {
   "cell_type": "code",
   "execution_count": 19,
   "metadata": {
    "scrolled": false
   },
   "outputs": [],
   "source": [
    "\"\"\" Setting up libraries for project\n",
    "    \n",
    "\"\"\"\n",
    "import numpy as np\n",
    "import pandas as pd\n",
    "import matplotlib.pyplot as plt\n",
    "import time\n",
    "import folium as fm # Map Library: will only work with Jupyter since it needs a browser\n",
    "from folium.plugins import FastMarkerCluster # To add map markers\n",
    "from pyproj import Proj, transform\n",
    "from geopy import geocoders\n",
    "from geopy.geocoders import Nominatim\n",
    "from geopy.exc import GeocoderTimedOut\n",
    "\n",
    "from geopy.extra.rate_limiter import RateLimiter # Limit rate of geopy\n",
    "geocode = RateLimiter(geolocator.geocode, min_delay_seconds=1)\n",
    "\n",
    "geolocator = Nominatim(user_agent=\"Traffic Data\", timeout=3)\n",
    "\n",
    "\"\"\" Settings for numpy and Pandas\n",
    "\"\"\"\n",
    "#Numpy:\n",
    "np.set_printoptions(threshold = np.inf, linewidth = 500, suppress = True)\n",
    "\n",
    "#Pandas\n",
    "pd.set_option(\"display.max_rows\"\t, \t3000)\n",
    "pd.set_option(\"display.max_columns\"\t, \t3000)\n",
    "pd.set_option(\"display.width\"\t\t,\t1000)\n",
    "pd.set_option(\"display.float_format\", \tlambda x: \"%.3f' % x\")\n",
    "\n",
    "\n",
    "\n"
   ]
  },
  {
   "cell_type": "code",
   "execution_count": 23,
   "metadata": {},
   "outputs": [],
   "source": [
    "def get_longitude (row):\n",
    "    if geolocator.geocode(str(row[\"Offense Street Name\"]))!= None:\n",
    "        return geolocator.geocode(str(row[\"Offense Street Name\"])).longitude\n",
    "    else:\n",
    "        return None\n",
    "        \n",
    "def get_latitude (row):\n",
    "    if geolocator.geocode(str(row[\"Offense Street Name\"]))!= None:\n",
    "        return geolocator.geocode(str(row[\"Offense Street Name\"])).latitude\n",
    "    else:\n",
    "        return None\n",
    "    "
   ]
  },
  {
   "cell_type": "code",
   "execution_count": 24,
   "metadata": {},
   "outputs": [],
   "source": [
    "\"\"\"Parsing for the CSV, read in all data from CSV \n",
    "\"\"\"\n",
    "def ParseFile(file_in, file_out, batchsize):\n",
    "    \"\"\" \n",
    "    Recieve CSV file, parse data, then output new CSV organized with wanted data\n",
    "    Parameter: file_in, file_out, batchsize (for larger CSVs if wanted >1mill entries)\n",
    "    Return: Outputs new CSV with desired data, nothing returned from function\n",
    "    \"\"\"\n",
    "    # Dataframe for CSV\n",
    "    d = pd.read_csv(file_in, delimiter = ',', header = 0, nrows = 0, dtype = str)\n",
    "    dat_recent = pd.DataFrame(data = d)\n",
    "    # The columns that we won't be using can be dropped\n",
    "    dat_recent = dat_recent.drop(['School Zone', 'Construction Zone', 'Case Closed', 'Agency', 'Officer Code'], axis=1)\n",
    "\n",
    "    i = 0\n",
    "    not_done = True\n",
    "    # Do in batches, if more than 1 million samples\n",
    "    while not_done:\n",
    "\n",
    "        print('processing batch', i, ', samples processed: ', i * batchsize)\n",
    "\n",
    "        # load in batches of 1-million entries for processing per pass\n",
    "        dat = pd.read_csv(file_in, delimiter = ',', header = 0, nrows = batchsize, skiprows = range(1, i*batchsize),\n",
    "                          dtype = str)\n",
    "\n",
    "        # Drop the columns that we don't need to save on space\n",
    "        dat = dat.drop(['School Zone', 'Construction Zone', 'Case Closed', 'Agency', 'Officer Code'], axis=1)\n",
    "\n",
    "\n",
    "        # if the batch has less than 1-million entries then we know that this is the last pass\n",
    "        i+=1\n",
    "        if len(dat) < batchsize:\n",
    "            not_done = False\n",
    "\n",
    "        # replace the emply fields with \"0\"\n",
    "        dat = dat.replace(np.nan, '0')\n",
    "\n",
    "        # Extract 2018 stuff and convert address to coordinates while storing into csv\n",
    "        #print(location)\n",
    "        dat = dat[dat['Offense Date'].str.contains('2018')]\n",
    "        #dat[\"Latitude\"]\n",
    "        dat[\"Offense Street Name\"] = dat[\"Offense Street Name\"] + \" Austin\"\n",
    "        #dat[\"Longitude\"] = dat.apply (lambda row: get_longitude(row), axis=1)\n",
    "        #dat[\"Latitude\"] = dat.apply (lambda row: get_latitude(row), axis=1)\n",
    "        dat.insert(0, \"Longitude\",dat.apply (lambda row: get_longitude(row), axis=1) )\n",
    "        dat.insert(1, \"Latitude\",dat.apply (lambda row: get_latitude(row), axis=1) )\n",
    "        dat.to_csv(file_out)\n",
    "        #area = dat[\"Offense Street Name\"]\n",
    "        \n",
    "        #for _, val in area.iteritems():\n",
    "            #area = str(val)\n",
    "            #print(area)\n",
    "            #coord = geolocator.geocode(area)\n",
    "            #print(coord)\n",
    "            #if coord != None:\n",
    "                #print(coord.latitude, coord.longitude)\n",
    "        #location = geolocator.geocode(dat[\"Offense Street Name\"], timeout=20)\n",
    "        #dat[\"Coordinates\"]\n",
    "       \n",
    "\n",
    "        #dat_recent = dat_recent.append(dat)\n",
    "\n",
    "\n",
    "    #print(dat_recent)\n",
    "    #dat_recent.to_csv(file_out)\n",
    "    print('done, new .csv saved as', file_out)\n",
    "    \n",
    "\n"
   ]
  },
  {
   "cell_type": "code",
   "execution_count": 25,
   "metadata": {
    "scrolled": false
   },
   "outputs": [
    {
     "name": "stdout",
     "output_type": "stream",
     "text": [
      "processing batch 0 , samples processed:  0\n",
      "done, new .csv saved as Output2018.csv\n",
      "Loading data...\n",
      "Data loaded, producing figures and maps...\n"
     ]
    },
    {
     "data": {
      "text/html": [
       "<div style=\"width:100%;\"><div style=\"position:relative;width:100%;height:0;padding-bottom:60%;\"><iframe src=\"data:text/html;charset=utf-8;base64,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\" style=\"position:absolute;width:100%;height:100%;left:0;top:0;border:none !important;\" allowfullscreen webkitallowfullscreen mozallowfullscreen></iframe></div></div>"
      ],
      "text/plain": [
       "<folium.folium.Map at 0x1f27581e828>"
      ]
     },
     "metadata": {},
     "output_type": "display_data"
    }
   ],
   "source": [
    "\"\"\"Main Program\n",
    "    Runs mapping library\n",
    "\"\"\"\n",
    "\n",
    "# To keep track of how long it takes\n",
    "start_time = time.time()\n",
    "\n",
    "# No need to run either if the csv's are already made\n",
    "batchsize = 1000000\n",
    "trim_data = True\n",
    "\n",
    "if trim_data == True:\n",
    "    #ParseFile('Municipal_Court_Caseload_Information_FY_2018.csv', 'Output2018.csv', batchsize)\n",
    "    ParseFile(\"test.csv\", \"Output2018.csv\", batchsize)\n",
    "# Load in the cleaned data as its own dataframe to work with\n",
    "print('Loading data...')\n",
    "working_data = pd.read_csv('Output2018.csv', delimiter=',', header=0, dtype = object)\n",
    "\n",
    "# Rename the first column which is duplicated upon loading the csv (csv saves the index and loading it in adds an index)\n",
    "working_data = working_data.rename(columns = {'Unnamed: 0' : 'Index'})\n",
    "\n",
    "print('Data loaded, producing figures and maps...')\n",
    "\n",
    "# - - - - - - - - - - - - - - - - For the map: - - - - - - - - - - - - - - - -\n",
    "\n",
    "# Take the coorinates as their own dataframe so it can be manipulated, no need to throw out the rows with bad\n",
    "# coordinate data from the full data set since they may contain other useful info\n",
    "\n",
    "cbatch = 40000 # Number of previous incidents to plot, anything over this will bog down the map\n",
    "#coords = (working_data.loc[(len(working_data) - cbatch):, \"Offense Street Name\"]).astype(dtype = \"str\")\n",
    "longitude = pd.to_numeric(working_data[\"Longitude\"].dropna())\n",
    "latitude = pd.to_numeric(working_data[\"Latitude\"].dropna())\n",
    "\n",
    "\n",
    "\n",
    "# # coords are in x/y and we want lat/long, this is from the pyproj documentation\n",
    "# pm = '+proj=lcc +lat_1=34.03333333333333 +lat_2=35.46666666666667 +lat_0=33.5 +lon_0=-118 +x_0=2000000 ' \\\n",
    "#      '+y_0=500000.0000000002 +ellps=GRS80 +datum=NAD83 +to_meter=0.3048006096012192 +no_defs'\n",
    "\n",
    "# # convert to lat/long\n",
    "# x_in,y_in = coords['Latitude'].values, coords['Longitude'].values\n",
    "# lat,long = transform(Proj(pm, preserve_units = True), Proj(\"+init=epsg:4326\"), x_in,y_in)\n",
    "\n",
    "AUS_coords = [30.267153,-97.7430608]\n",
    "m = fm.Map(location=AUS_coords, zoom_start=10.5)\n",
    "\n",
    "# # add map markers, plots as \"long/lat\" rather than \"lat/long\"\n",
    "FastMarkerCluster(data=list(zip(latitude, longitude))).add_to(m)\n",
    "display(m) "
   ]
  },
  {
   "cell_type": "code",
   "execution_count": 57,
   "metadata": {
    "scrolled": false
   },
   "outputs": [
    {
     "name": "stdout",
     "output_type": "stream",
     "text": [
      "  Offense Time Index\n",
      "0           02     1\n",
      "1           07     1\n",
      "2           07     1\n",
      "3           10     1\n",
      "4           10     1\n",
      "   Offense Time  Index\n",
      "0             2      1\n",
      "1             7      1\n",
      "2             7      1\n",
      "3            10      1\n",
      "4            10      1\n",
      "   Offense Time  Index\n",
      "0             2      1\n",
      "1             7      1\n",
      "2             7      1\n",
      "3            10      1\n",
      "4            10      1\n"
     ]
    },
    {
     "data": {
      "image/png": "[encoded data removed]",
      "text/plain": [
       "<Figure size 1152x504 with 1 Axes>"
      ]
     },
     "metadata": {
      "needs_background": "light"
     },
     "output_type": "display_data"
    },
    {
     "data": {
      "image/png": "[encoded data removed]",
      "text/plain": [
       "<Figure size 1152x504 with 1 Axes>"
      ]
     },
     "metadata": {
      "needs_background": "light"
     },
     "output_type": "display_data"
    },
    {
     "name": "stdout",
     "output_type": "stream",
     "text": [
      "--- 1639.976098060608 seconds ---\n"
     ]
    }
   ],
   "source": [
    "# - - - - - - - - - - - - - - - - For the figures - - - - - - - - - - - - - - - -\n",
    "# Taking pieces of the data so I can manipulate them without affecting the original data, since I might want to use\n",
    "# it for new things at some point\n",
    "\"\"\"\n",
    "# Count the incidents per month\n",
    "month_counts = working_data.groupby(by = 'Month', as_index=False).agg({'Index' : pd.Series.nunique})\n",
    "month_counts = month_counts.astype(int)\n",
    "month_counts = month_counts.sort_values(by = ['Month'], ascending = True)\n",
    "\n",
    "f1 = plt.figure(figsize=(16, 7))\n",
    "plt.bar(month_counts['Month'], month_counts['Index'])\n",
    "plt.title('Violations Per Month (2018)')\n",
    "plt.xlabel('Month')\n",
    "plt.ylabel('Number of Violations')\n",
    "\"\"\"\n",
    "# Violations according to hour\n",
    "time_counts = working_data.groupby(by = 'Offense Time', as_index=False).agg({'Index' : pd.Series.nunique})\n",
    "time_counts = time_counts.astype(str)\n",
    "time_counts['Offense Time'] = time_counts['Offense Time'].str.slice_replace(2, 8, '')\n",
    "time_counts = time_counts.astype(int)\n",
    "time_counts = time_counts.sort_values(by = ['Offense Time'], ascending = True)\n",
    "\n",
    "\n",
    "\n",
    "print(time_counts.head())\n",
    "\n",
    "\n",
    "f2 = plt.figure(figsize=(16, 7))\n",
    "plt.bar(time_counts['Offense Time'], time_counts['Index'])\n",
    "plt.title('Violations Grouped by Hour of Occurrence (2018)')\n",
    "plt.xlabel('Time (24 hr. clock)')\n",
    "plt.ylabel('Number of Violations')\n",
    "\n",
    "# Reasons for violations\n",
    "reason_counts = working_data.groupby(by = 'Offense Charge Description', as_index=False).agg({'Index' : pd.Series.nunique})\n",
    "reason_counts = reason_counts.sort_values(by = ['Index'], ascending = False)\n",
    "reason_counts = reason_counts[reason_counts['Index'] > 20000]\n",
    "\n",
    "f3 = plt.figure(figsize=(16, 7))\n",
    "plt.bar(reason_counts['Offense Charge Description'], reason_counts['Index'])\n",
    "plt.title('Offense Charge Description')\n",
    "plt.xlabel('Violation Reason')\n",
    "plt.xticks(rotation=70)\n",
    "plt.tight_layout()\n",
    "plt.ylabel('Number of Violations')\n",
    "\n",
    "\n",
    "plt.show()\n",
    "\n",
    "print(\"--- %s seconds ---\" % (time.time() - start_time))"
   ]
  },
  {
   "cell_type": "code",
   "execution_count": null,
   "metadata": {},
   "outputs": [],
   "source": []
  }
 ],
 "metadata": {
  "kernelspec": {
   "display_name": "Python 3",
   "language": "python",
   "name": "python3"
  },
  "language_info": {
   "codemirror_mode": {
    "name": "ipython",
    "version": 3
   },
   "file_extension": ".py",
   "mimetype": "text/x-python",
   "name": "python",
   "nbconvert_exporter": "python",
   "pygments_lexer": "ipython3",
   "version": "3.7.1"
  }
 },
 "nbformat": 4,
 "nbformat_minor": 2
}
