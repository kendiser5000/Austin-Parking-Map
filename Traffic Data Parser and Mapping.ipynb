{
 "cells": [
  {
   "cell_type": "code",
   "execution_count": 8,
   "metadata": {
    "scrolled": false
   },
   "outputs": [],
   "source": [
    "\"\"\" Setting up libraries for project\n",
    "    \n",
    "\"\"\"\n",
    "\n",
    "import numpy as np\n",
    "import pandas as pd\n",
    "import matplotlib.pyplot as plt\n",
    "import time\n",
    "import folium as fm # Map Library: will only work with Jupyter since it needs a browser\n",
    "from folium.plugins import FastMarkerCluster # To add map markers\n",
    "from pyproj import Proj, transform\n",
    "\n",
    "\n",
    "\"\"\" Settings for numpy and Pandas\n",
    "\"\"\"\n",
    "#Numpy:\n",
    "np.set_printoptions(threshold = np.inf, linewidth = 500, suppress = True)\n",
    "\n",
    "#Pandas\n",
    "pd.set_option(\"display.max_rows\"\t, \t3000)\n",
    "pd.set_option(\"display.max_columns\"\t, \t3000)\n",
    "pd.set_option(\"display.width\"\t\t,\t1000)\n",
    "pd.set_option(\"display.float_format\", \tlambda x: \"%.3f' % x\")\n",
    "\n",
    "\n"
   ]
  },
  {
   "cell_type": "code",
   "execution_count": 9,
   "metadata": {},
   "outputs": [
    {
     "ename": "SyntaxError",
     "evalue": "invalid syntax (<ipython-input-9-66790c17efc4>, line 6)",
     "output_type": "error",
     "traceback": [
      "\u001b[1;36m  File \u001b[1;32m\"<ipython-input-9-66790c17efc4>\"\u001b[1;36m, line \u001b[1;32m6\u001b[0m\n\u001b[1;33m    def ParseFile(file_in, file_out, batchsize)\u001b[0m\n\u001b[1;37m                                               ^\u001b[0m\n\u001b[1;31mSyntaxError\u001b[0m\u001b[1;31m:\u001b[0m invalid syntax\n"
     ]
    }
   ],
   "source": [
    "\"\"\"Parsing for the CSV, read in all data from CSV \n",
    "    Ignore: \n",
    "    Read: Offense Case Type, Offense Data, Offense Time, Offense Chrge Descrip.\n",
    "            Offense Street, (Agency & Officer Code)\n",
    "\"\"\"\n",
    "def ParseFile(file_in, file_out, batchsize)\n",
    "    \"\"\" \n",
    "    Recieve CSV file, parse data, then output new CSV organized with wanted data\n",
    "    Parameter: file_in, file_out, batchsize (for larger CSVs if wanted >1mill entries)\n",
    "    Return: Outputs new CSV with desired data, nothing returned from function\n",
    "    \"\"\"\n",
    "    pass\n",
    "\n"
   ]
  },
  {
   "cell_type": "code",
   "execution_count": null,
   "metadata": {},
   "outputs": [],
   "source": []
  }
 ],
 "metadata": {
  "kernelspec": {
   "display_name": "Python 3",
   "language": "python",
   "name": "python3"
  },
  "language_info": {
   "codemirror_mode": {
    "name": "ipython",
    "version": 3
   },
   "file_extension": ".py",
   "mimetype": "text/x-python",
   "name": "python",
   "nbconvert_exporter": "python",
   "pygments_lexer": "ipython3",
   "version": "3.7.1"
  }
 },
 "nbformat": 4,
 "nbformat_minor": 2
}
